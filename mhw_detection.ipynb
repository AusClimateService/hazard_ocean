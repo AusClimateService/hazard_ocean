{
 "cells": [
  {
   "cell_type": "code",
   "execution_count": null,
   "id": "6e2e802e-8462-4f42-907b-22aa246281aa",
   "metadata": {},
   "outputs": [],
   "source": [
    "import sys\n",
    "import os\n",
    "\n",
    "### Data handling\n",
    "import numpy as np\n",
    "import pandas as pd\n",
    "import xarray as xr\n",
    "import scipy as sci\n",
    "\n",
    "### Plotting\n",
    "import matplotlib.pyplot as plt\n",
    "import matplotlib.colors as mcolors\n",
    "import cartopy.crs as ccrs\n",
    "import cartopy.feature as cfeature\n",
    "import cmocean.cm as cmo\n",
    "\n",
    "### Marine heatwaves python package\n",
    "from xmhw.xmhw import threshold, detect"
   ]
  },
  {
   "cell_type": "code",
   "execution_count": null,
   "id": "ef57eafe-b1fc-44b9-8eda-aed29ebb4003",
   "metadata": {},
   "outputs": [],
   "source": [
    "from dask.distributed import Client\n",
    "client = Client(threads_per_worker=1)\n",
    "client"
   ]
  },
  {
   "cell_type": "code",
   "execution_count": null,
   "id": "e8a29cda-3378-48f8-90cb-b2a18ee2feb6",
   "metadata": {},
   "outputs": [],
   "source": [
    "# Define constants\n",
    "WRKDIR = \"/g/data/fp2/OFAM3\"\n",
    "COORDS_TO_DROP = ['st_edges_ocean', 'nv']\n",
    "VARS_TO_DROP = ['Time_bounds', 'average_DT', 'average_T1', 'average_T2']\n",
    "MIN_DURATION = 10\n"
   ]
  },
  {
   "cell_type": "code",
   "execution_count": null,
   "id": "98c16573-53fd-4cf1-86be-ac7df1a40170",
   "metadata": {},
   "outputs": [],
   "source": [
    "# Preprocessor to drop unwanted variables\n",
    "def drop_stuff(ds):\n",
    "    return ds.drop_vars(COORDS_TO_DROP + VARS_TO_DROP, errors='ignore')\n"
   ]
  },
  {
   "cell_type": "code",
   "execution_count": null,
   "id": "722b59c1-4a3f-47a4-85d3-a0ffdfda3336",
   "metadata": {},
   "outputs": [],
   "source": [
    "# Load and preprocess SST data\n",
    "def load_sst_data():\n",
    "    sst = xr.open_mfdataset(\n",
    "        os.path.join(WRKDIR, \"jra55_rcp8p5/surface/ocean_temp_sfc_205*.nc\"),\n",
    "        parallel=True,\n",
    "        preprocess=drop_stuff\n",
    "    ).squeeze()\n",
    "    return sst"
   ]
  },
  {
   "cell_type": "code",
   "execution_count": null,
   "id": "5552aefa-b5a9-4f8e-b7be-f0ac8ef0232c",
   "metadata": {},
   "outputs": [],
   "source": [
    "# Add 'year' and 'doy' coordinates\n",
    "def add_time_coords(sst):\n",
    "    sst['year'] = sst['time'].dt.year\n",
    "    sst['doy'] = (('time',), np.array([pd.Timestamp(t).dayofyear for t in sst['time'].values]))\n",
    "    return sst.set_index(time=['year', 'doy'])"
   ]
  },
  {
   "cell_type": "code",
   "execution_count": null,
   "id": "ee392473-07ac-41db-865c-6306b42c44a5",
   "metadata": {},
   "outputs": [],
   "source": [
    "# Detect MHWs and calculate differences\n",
    "def detect_mhws_and_diff(sst, threshold):\n",
    "    mhws, diff = {}, {}\n",
    "    for yr in np.unique(sst['year'].values):\n",
    "        tmp = sst.sel(year=yr)\n",
    "        mhws[str(yr)] = tmp > threshold\n",
    "        diff[str(yr)] = tmp - threshold\n",
    "        mhws[str(yr)] = mhws[str(yr)].rename({\"doy\": \"time\"}).assign_coords(\n",
    "            time=pd.date_range(start=f\"{yr}-01-01\", end=f\"{yr}-12-31\", freq='D')\n",
    "        )\n",
    "        diff[str(yr)] = diff[str(yr)].rename({\"doy\": \"time\"}).assign_coords(\n",
    "            time=pd.date_range(start=f\"{yr}-01-01\", end=f\"{yr}-12-31\", freq='D')\n",
    "        )\n",
    "    return xr.concat(list(mhws.values()), dim='time'), xr.concat(list(diff.values()), dim='time')"
   ]
  },
  {
   "cell_type": "code",
   "execution_count": null,
   "id": "eda59d12-3720-4a95-9b87-3b015d95e73b",
   "metadata": {},
   "outputs": [],
   "source": [
    "# Label continuous events in time\n",
    "def label_events(da):\n",
    "    shifted = da.shift(time=1, fill_value=False)\n",
    "    new_event_start = da & ~shifted\n",
    "    event_labels = new_event_start.cumsum(dim='time')\n",
    "    return event_labels.where(da)"
   ]
  },
  {
   "cell_type": "code",
   "execution_count": null,
   "id": "bc48b344-ec7c-45cd-9cad-7f9fe5ebbd20",
   "metadata": {},
   "outputs": [],
   "source": [
    "# Calculate MHW characteristics\n",
    "def calculate_mhw_characteristics(event_labels, diff):\n",
    "    max_event_number = int(event_labels.max().values)\n",
    "    mhws_ds = xr.Dataset({\n",
    "        'duration': xr.DataArray(\n",
    "            np.nan, dims=('event', 'yt_ocean', 'xt_ocean'),\n",
    "            coords={'event': np.arange(1, max_event_number + 1), 'yt_ocean': event_labels.coords['yt_ocean'].values, 'xt_ocean': event_labels.coords['xt_ocean'].values}\n",
    "        ),\n",
    "        'intensity_mean': xr.DataArray(\n",
    "            np.nan, dims=('event', 'yt_ocean', 'xt_ocean'),\n",
    "            coords={'event': np.arange(1, max_event_number + 1), 'yt_ocean': event_labels.coords['yt_ocean'].values, 'xt_ocean': event_labels.coords['xt_ocean'].values}\n",
    "        ),\n",
    "        'intensity_max': xr.DataArray(\n",
    "            np.nan, dims=('event', 'yt_ocean', 'xt_ocean'),\n",
    "            coords={'event': np.arange(1, max_event_number + 1), 'yt_ocean': event_labels.coords['yt_ocean'].values, 'xt_ocean': event_labels.coords['xt_ocean'].values}\n",
    "        )\n",
    "    })\n",
    "    for event_id in range(1, max_event_number + 1):\n",
    "        event_mask = event_labels == event_id\n",
    "        mhws_ds['duration'].loc[{'event': event_id}] = event_mask.sum(dim='time')\n",
    "        mhws_ds['intensity_mean'].loc[{'event': event_id}] = diff.where(event_mask).mean(dim='time')\n",
    "        mhws_ds['intensity_max'].loc[{'event': event_id}] = diff.where(event_mask).max(dim='time')\n",
    "\n",
    "    return mhws_ds"
   ]
  },
  {
   "cell_type": "code",
   "execution_count": null,
   "id": "dce94709-8271-4a26-bf04-a03dcc804a87",
   "metadata": {},
   "outputs": [],
   "source": [
    "# Plot variables\n",
    "def plot_variable(data, variable, title, cmap, levels, lon_name='xt_ocean', lat_name='yt_ocean'):\n",
    "    fig, ax = plt.subplots(figsize=(12, 6), subplot_kw={'projection': ccrs.PlateCarree(central_longitude=180)})\n",
    "    fig.suptitle(title, fontsize=20)\n",
    "\n",
    "    lon = data[lon_name]\n",
    "    lat = data[lat_name]\n",
    "    data_2d = data.squeeze()\n",
    "\n",
    "    img = ax.pcolormesh(lon, lat, data_2d, cmap=cmap, transform=ccrs.PlateCarree(), vmin=levels[0], vmax=levels[-1])\n",
    "    ax.coastlines()\n",
    "    ax.add_feature(cfeature.BORDERS, linestyle=':')\n",
    "    ax.set_extent([0, 360, -90, 0], crs=ccrs.PlateCarree())\n",
    "\n",
    "    cbar = plt.colorbar(img, ax=ax, orientation='vertical', shrink=0.5, pad=0.05)\n",
    "    cbar.set_label(variable)\n",
    "\n",
    "    plt.show()"
   ]
  },
  {
   "cell_type": "code",
   "execution_count": null,
   "id": "6bca3096-314a-4389-a82a-b70c5bbfc7ad",
   "metadata": {},
   "outputs": [],
   "source": [
    "# Main Workflow\n",
    "def main():\n",
    "    # Load data\n",
    "    sst = load_sst_data()\n",
    "    climatology = xr.open_dataset('/g/data/xv83/users/ep5799/Heatwaves/Australian_SST_daily_climatology.nc')['temp']\n",
    "    threshold90 = xr.open_dataset('/g/data/xv83/users/ep5799/Heatwaves/Australian_SST_daily_MHWthreshold.nc')['temp']\n",
    "\n",
    "    # Add coordinates\n",
    "    sst1 = add_time_coords(sst).chunk({'time': -1, 'yt_ocean': 50, 'xt_ocean': 50})\n",
    "\n",
    "    # Detect MHWs and differences\n",
    "    mhws, diff = detect_mhws_and_diff(sst1, threshold90)\n",
    "\n",
    "    # Plot initial results\n",
    "    plot_variable(mhws.mean(dim='time'), 'MHWs', 'Mean MHWs', 'viridis', [0, 1])\n",
    "    plot_variable(diff.isel(time=365), 'SST Difference', 'SST Difference on Day 365', cmo.balance, [-2, 2])\n",
    "\n",
    "    # Calculate MHW occurrence\n",
    "    mhws_occurrence = mhws.rolling(time=MIN_DURATION, center=False).sum() >= MIN_DURATION\n",
    "    plot_variable(mhws_occurrence.mean(dim='time'), 'MHW Occurrence', 'Mean MHW Occurrence', 'viridis', [0, 1])\n",
    "\n",
    "    # Label events\n",
    "    event_labels = label_events(mhws_occurrence).compute()\n",
    "\n",
    "    # Calculate MHW characteristics\n",
    "    mhws_ds = calculate_mhw_characteristics(event_labels, diff)\n",
    "\n",
    "    # Plot MHW characteristics\n",
    "    plot_variable(mhws_ds['duration'].isel(event=0), 'Duration', 'MHW Duration', 'viridis', [0, 365])\n",
    "    plot_variable(mhws_ds['intensity_mean'].isel(event=0), 'Mean Intensity', 'Mean Intensity of MHW', cmo.balance, [-2, 2])\n",
    "    plot_variable(mhws_ds['intensity_max'].isel(event=0), 'Max Intensity', 'Max Intensity of MHW', cmo.balance, [-2, 2])\n",
    "\n",
    "if __name__ == \"__main__\":\n",
    "    main()"
   ]
  }
 ],
 "metadata": {
  "kernelspec": {
   "display_name": "Python [conda env:analysis3]",
   "language": "python",
   "name": "conda-env-analysis3-py"
  },
  "language_info": {
   "codemirror_mode": {
    "name": "ipython",
    "version": 3
   },
   "file_extension": ".py",
   "mimetype": "text/x-python",
   "name": "python",
   "nbconvert_exporter": "python",
   "pygments_lexer": "ipython3",
   "version": "3.10.13"
  }
 },
 "nbformat": 4,
 "nbformat_minor": 5
}
